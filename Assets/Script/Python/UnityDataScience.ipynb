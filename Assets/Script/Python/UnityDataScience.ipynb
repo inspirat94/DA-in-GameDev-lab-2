{
 "cells": [
  {
   "cell_type": "code",
   "execution_count": 9,
   "id": "2d6bca12",
   "metadata": {},
   "outputs": [
    {
     "name": "stdout",
     "output_type": "stream",
     "text": [
      "1 9\n",
      "2 17\n",
      "3 79\n",
      "4 61\n",
      "5 57\n",
      "6 21\n",
      "7 89\n",
      "8 45\n",
      "9 78\n",
      "10 8\n"
     ]
    }
   ],
   "source": [
    "import gspread\n",
    "import numpy as np\n",
    "gc = gspread.service_account(filename='da-in-gamedev-lab2-268aa5da7b15.json')\n",
    "sh = gc.open(\"DA-in-GameDev-lab-2\")\n",
    "hp = np.random.randint(1, 100, 11)\n",
    "mon = list(range(1,11))\n",
    "i = 0\n",
    "while i < len(hp) - 1:\n",
    "    i += 1\n",
    "    if i == 0:\n",
    "        continue\n",
    "    else:\n",
    "        sh.sheet1.update(('A' + str(i)), str(i))\n",
    "        sh.sheet1.update(('B' + str(i)), str(hp[i]))\n",
    "        print(i, hp[i])"
   ]
  },
  {
   "cell_type": "code",
   "execution_count": null,
   "id": "5f5c3622",
   "metadata": {},
   "outputs": [],
   "source": []
  },
  {
   "cell_type": "code",
   "execution_count": null,
   "id": "2ff701d8",
   "metadata": {},
   "outputs": [],
   "source": []
  }
 ],
 "metadata": {
  "kernelspec": {
   "display_name": "Python 3 (ipykernel)",
   "language": "python",
   "name": "python3"
  },
  "language_info": {
   "codemirror_mode": {
    "name": "ipython",
    "version": 3
   },
   "file_extension": ".py",
   "mimetype": "text/x-python",
   "name": "python",
   "nbconvert_exporter": "python",
   "pygments_lexer": "ipython3",
   "version": "3.11.4"
  }
 },
 "nbformat": 4,
 "nbformat_minor": 5
}
